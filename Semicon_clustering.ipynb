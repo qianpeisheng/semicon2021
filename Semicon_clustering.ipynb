{
 "cells": [
  {
   "cell_type": "markdown",
   "id": "6fb6dc54-0633-4f3b-99cf-66a39d8bf0c8",
   "metadata": {},
   "source": [
    "# Semiconductor Clustering\n",
    "### Overview\n",
    "### Steps\n",
    "1. Read data and preprocess.\n",
    "2. Generate features through pretrained neural networks.\n",
    "3. Dimension reduction,  visualization\n",
    "4. Find centers of each class. TODO\n",
    "5. Test. TODO"
   ]
  },
  {
   "cell_type": "code",
   "execution_count": 1,
   "id": "4eac6b2e-ac23-451b-a87d-0a33ead83dab",
   "metadata": {},
   "outputs": [],
   "source": [
    "import os\n",
    "import torch\n",
    "from torch import pca_lowrank\n",
    "from torch.utils.data import Dataset, DataLoader\n",
    "from torchvision import datasets\n",
    "from torchvision.io import read_image, ImageReadMode\n",
    "from torchvision import transforms, utils\n",
    "import torchvision.models as models\n",
    "from torchvision.transforms import ToTensor, Resize\n",
    "import matplotlib.pyplot as plt\n",
    "\n",
    "import numpy as np\n",
    "import matplotlib.pyplot as plt\n",
    "# from mpl_toolkits.mplot3d import Axes3D\n",
    "from sklearn import decomposition"
   ]
  },
  {
   "cell_type": "markdown",
   "id": "da8356a2-7c64-4de1-b95f-5f7f892dda78",
   "metadata": {},
   "source": [
    "### Parameters"
   ]
  },
  {
   "cell_type": "code",
   "execution_count": 2,
   "id": "9bc35362-7252-4b9f-9947-93d61a739722",
   "metadata": {},
   "outputs": [],
   "source": [
    "model_name = 'resnet18' # resnet18, resnet34, resnet50, resnet101, densenet121, densenet161, vgg16, resnet50\n",
    "file_path = 'classify8.22_init'\n",
    "resize = 224 # for resnet 18/34/50\n",
    "classes = [5, 10, 15, 20, 25] # \n",
    "# classes = [1, 2, 3, 4, 5, 6, 7, 8, 9, 10, 11, 12, 13, 14, 15, 16, 17, 18, 19, 20, 21, 22, 23, 24, 25, 26, 27]"
   ]
  },
  {
   "cell_type": "markdown",
   "id": "5d9445a3-0409-4e4f-9e5c-b0ed10946f79",
   "metadata": {},
   "source": [
    "### 1. Read data and preprocess"
   ]
  },
  {
   "cell_type": "code",
   "execution_count": 3,
   "id": "6aa07a18-becc-4838-9ff4-ca7a3872c208",
   "metadata": {},
   "outputs": [],
   "source": [
    "class SemiconDataset(Dataset):\n",
    "    '''\n",
    "    File path structure: root/cls_idx/img_idx.jpg\n",
    "    '''\n",
    "    \n",
    "    def __init__(self, file_path, transform=None):\n",
    "        self.file_path = file_path\n",
    "        self.folders = []\n",
    "        self.folder_images = {}\n",
    "        self.folder_image_list = []\n",
    "        self.length = 0\n",
    "        self.transform = transform\n",
    "        \n",
    "        for root, subdirs, files in os.walk(file_path):\n",
    "            if root == file_path:\n",
    "                ### 1st level, folders\n",
    "                for subdir in subdirs:\n",
    "                    self.folders.append(subdir)\n",
    "            else:\n",
    "                # 2nd level, images\n",
    "                folder = root.split('/')[1]\n",
    "                self.folder_images[folder] = files\n",
    "                self.length += len(files)\n",
    "        for folder, images in self.folder_images.items():\n",
    "            for image in images:\n",
    "                self.folder_image_list.append((folder, image))\n",
    "        \n",
    "    def __len__(self):\n",
    "        return self.length\n",
    "    \n",
    "    def __getitem__(self, idx):\n",
    "        image_path = os.path.join(self.file_path, *self.folder_image_list[idx])\n",
    "#         image = read_image(image_path, ImageReadMode.GRAY)\n",
    "        image = read_image(image_path)\n",
    "        image = image/255\n",
    "        if self.transform:\n",
    "            image = self.transform(image)\n",
    "        label = self.folder_image_list[idx][0]\n",
    "        return image, label, image_path\n",
    "\n",
    "\n",
    "_transforms = transforms.Compose([Resize((resize, resize)),\n",
    "                                  #ToTensor()\n",
    "                                 ])\n",
    "dataset = SemiconDataset(file_path, _transforms)\n",
    "dataloader = DataLoader(dataset, batch_size=1,shuffle=False, num_workers=0)"
   ]
  },
  {
   "cell_type": "markdown",
   "id": "65c8ddc7-fcb4-4a98-96ab-9cabb23a315e",
   "metadata": {},
   "source": [
    "### 2. Generate features through pretrained neural networks.\n",
    "1. Models finetuned on semicon data should have better results.\n",
    "2. Current features may not make sense."
   ]
  },
  {
   "cell_type": "code",
   "execution_count": 4,
   "id": "f68d3127-61e0-4189-9a97-c8d5b79a2342",
   "metadata": {},
   "outputs": [
    {
     "name": "stderr",
     "output_type": "stream",
     "text": [
      "/home/peisheng/semicon/venv/lib/python3.6/site-packages/torch/nn/functional.py:718: UserWarning: Named tensors and all their associated APIs are an experimental feature and subject to change. Please do not use them for anything important until they are released as stable. (Triggered internally at  /pytorch/c10/core/TensorImpl.h:1156.)\n",
      "  return torch.max_pool2d(input, kernel_size, stride, padding, dilation, ceil_mode)\n"
     ]
    }
   ],
   "source": [
    "model_dict = {'resnet18':models.resnet18(pretrained=True),\n",
    "              'resnet34':models.resnet34(pretrained=True),\n",
    "              'resnet50':models.resnet50(pretrained=True),\n",
    "              'resnet121':models.resnet101(pretrained=True),\n",
    "              'vgg16':models.vgg16(pretrained=True),\n",
    "              'densenet121':models.densenet121(pretrained=True),\n",
    "              'densenet161':models.densenet161(pretrained=True)\n",
    "}\n",
    "model = model_dict[model_name] # resnet18 output size: 512\n",
    "    \n",
    "### strip the last layer\n",
    "feature_extractor = torch.nn.Sequential(*list(model.children())[:-1])\n",
    "cls_img_ft = {}\n",
    "sequential_outputs = []\n",
    "for data, label, image_path in dataloader:\n",
    "    out = feature_extractor(data)\n",
    "    out = torch.flatten(out)\n",
    "    out = torch.unsqueeze(out, dim=0)\n",
    "    label = int(label[0])\n",
    "    if label not in cls_img_ft:\n",
    "        cls_img_ft[label] = [{'image_path': image_path[0], 'features': out}]\n",
    "    else:\n",
    "        cls_img_ft[label].append({'image_path': image_path[0], 'features': out})\n",
    "    sequential_outputs.append([label, image_path[0], out])\n",
    "\n",
    "# cls_img_ft[16][2]['features']"
   ]
  },
  {
   "cell_type": "markdown",
   "id": "2e8183c0-488b-47c0-a965-d6a99281ba9a",
   "metadata": {},
   "source": [
    "### 3. Dimension reduction."
   ]
  },
  {
   "cell_type": "code",
   "execution_count": 5,
   "id": "fcae1f8f-cc69-4932-abf5-e8c29b0b7d84",
   "metadata": {},
   "outputs": [],
   "source": [
    "# PCA\n",
    "x = torch.vstack([output[2] for output in sequential_outputs])\n",
    "np_x = x.detach().numpy()\n",
    "\n",
    "pca = decomposition.PCA(n_components=2)\n",
    "pca.fit(np_x)\n",
    "np_x = pca.transform(np_x)"
   ]
  },
  {
   "cell_type": "markdown",
   "id": "dc8c8e67-734f-46e6-a50b-c903138e64d9",
   "metadata": {},
   "source": [
    "### Visualization"
   ]
  },
  {
   "cell_type": "code",
   "execution_count": 6,
   "id": "00ab1638-fcda-4973-9ecd-f2aeff3be1c3",
   "metadata": {},
   "outputs": [
    {
     "data": {
      "image/png": "[encoded data removed]",
      "text/plain": [
       "<Figure size 1332x756 with 1 Axes>"
      ]
     },
     "metadata": {
      "needs_background": "light"
     },
     "output_type": "display_data"
    }
   ],
   "source": [
    "# plt.scatter(np_x[:,0], np_x[:,1])\n",
    "\n",
    "# class_colours = ['r','b','g', 'c', 'm', 'y', 'k', 'w']\n",
    "def get_cmap(n, name='hsv'):\n",
    "    '''Returns a function that maps each index in 0, 1, ..., n-1 to a distinct \n",
    "    RGB color; the keyword argument name must be a standard mpl colormap name.'''\n",
    "    return plt.cm.get_cmap(name, n)\n",
    "\n",
    "fig, ax = plt.subplots()\n",
    "class_colours = get_cmap(len(classes))\n",
    "current_label = None\n",
    "for sequential_output, coord in zip(sequential_outputs, np_x):\n",
    "    label = sequential_output[0]\n",
    "    if label in classes:\n",
    "        color = classes.index(label)\n",
    "        ax.scatter(coord[0], coord[1], color=class_colours(color), label=label if current_label != label else '', alpha=0.7, edgecolors='none')\n",
    "        current_label = label\n",
    "\n",
    "ax.legend()\n",
    "title = 'Pretrained_model_name_'+ model_name\n",
    "ax.title.set_text(title)\n",
    "fig.set_size_inches(18.5, 10.5)"
   ]
  },
  {
   "cell_type": "markdown",
   "id": "23ec410a-ea19-4d39-add3-b43888589375",
   "metadata": {},
   "source": [
    "### 4. Find centers of each class. TODO"
   ]
  },
  {
   "cell_type": "markdown",
   "id": "123b8a2f-e6b6-4b8c-a092-9cec43d877ad",
   "metadata": {},
   "source": [
    "### 5. Test. TODO"
   ]
  },
  {
   "cell_type": "code",
   "execution_count": null,
   "id": "af60d280-756b-4081-ab78-858f21dbaaa1",
   "metadata": {},
   "outputs": [],
   "source": []
  }
 ],
 "metadata": {
  "kernelspec": {
   "display_name": "Python 3",
   "language": "python",
   "name": "python3"
  },
  "language_info": {
   "codemirror_mode": {
    "name": "ipython",
    "version": 3
   },
   "file_extension": ".py",
   "mimetype": "text/x-python",
   "name": "python",
   "nbconvert_exporter": "python",
   "pygments_lexer": "ipython3",
   "version": "3.6.9"
  }
 },
 "nbformat": 4,
 "nbformat_minor": 5
}
